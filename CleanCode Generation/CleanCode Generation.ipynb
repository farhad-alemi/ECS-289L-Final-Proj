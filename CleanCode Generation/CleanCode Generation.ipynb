{
 "cells": [
  {
   "cell_type": "markdown",
   "metadata": {},
   "source": [
    "# The following auxilliary notebook uses gpt-4o to generate cleaned version of the vulnerable code"
   ]
  },
  {
   "cell_type": "code",
   "execution_count": null,
   "metadata": {},
   "outputs": [],
   "source": [
    "import json\n",
    "import os\n",
    "\n",
    "from dotenv import load_dotenv\n",
    "load_dotenv('api_key.env')\n",
    "api_key = os.getenv('API_KEY')\n",
    "\n",
    "from openai import OpenAI\n",
    "client = OpenAI(api_key=api_key)"
   ]
  },
  {
   "cell_type": "markdown",
   "metadata": {},
   "source": [
    "## Customized functions"
   ]
  },
  {
   "cell_type": "code",
   "execution_count": null,
   "metadata": {},
   "outputs": [],
   "source": [
    "def file_parser(file_path):\n",
    "    json_objects = []\n",
    "    with open(file_path, 'r') as file:\n",
    "        object_tmp = ''\n",
    "        for line in file:\n",
    "            if line.startswith('{'):\n",
    "                object_tmp = line\n",
    "            else:\n",
    "                object_tmp = object_tmp + line\n",
    "                if line.startswith('}'):\n",
    "                    json_objects.append(json.loads(object_tmp))\n",
    "                    object_tmp = ''\n",
    "    return json_objects"
   ]
  },
  {
   "cell_type": "code",
   "execution_count": null,
   "metadata": {},
   "outputs": [],
   "source": [
    "def get_prompt(json_object):\n",
    "    return \"Here is the original code:\\n\\\\\\\"\" + json_object['func'] + \"\\\\\\\"\\nHere is the comment:\\n\\\\\\\"\" + json_object['message'] + \"\\\\\\\"\"\n",
    "\n",
    "def get_message(header_json, prompt):\n",
    "    request_json = {\n",
    "        \"role\": \"user\",\n",
    "        \"content\": [\n",
    "            {\n",
    "                \"type\": \"text\",\n",
    "                \"text\": prompt\n",
    "            }\n",
    "        ]\n",
    "    }\n",
    "    message = [header_json, request_json]\n",
    "    return message"
   ]
  },
  {
   "cell_type": "code",
   "execution_count": null,
   "metadata": {},
   "outputs": [],
   "source": [
    "def get_response(client, message):\n",
    "    return client.chat.completions.create(\n",
    "        model=\"gpt-4o\",\n",
    "        messages= message,\n",
    "        temperature=1,\n",
    "        max_tokens=4095,\n",
    "        top_p=1,\n",
    "        frequency_penalty=0,\n",
    "        presence_penalty=0\n",
    "    )"
   ]
  },
  {
   "cell_type": "code",
   "execution_count": null,
   "metadata": {},
   "outputs": [],
   "source": [
    "def save_response(response):\n",
    "    with open('response.json', 'a+') as file:\n",
    "        json.dump(response.to_dict(), file, indent=4)\n",
    "        file.write('\\n')"
   ]
  },
  {
   "cell_type": "code",
   "execution_count": null,
   "metadata": {},
   "outputs": [],
   "source": [
    "def response_parser(response_object):\n",
    "    text = response_object['choices'][0]['message']['content']\n",
    "    if '```C\\n' in text:\n",
    "        delimeter = '```C\\n'\n",
    "    elif '```c++\\n' in text:\n",
    "        delimeter = '```c++\\n'\n",
    "    elif '```cpp\\n' in text:\n",
    "        delimeter = '```cpp\\n'\n",
    "    elif '```c\\n' in text:\n",
    "        delimeter = '```c\\n'\n",
    "    else:\n",
    "        delimeter = '```'\n",
    "        code = text.split(delimeter)[1]\n",
    "        comment = text.split(delimeter)[2]\n",
    "        return code, comment\n",
    "\n",
    "    content = text.split(delimeter)[1]\n",
    "    code = content.split('\\n```')[0]\n",
    "    comment = content.split('\\n```')[1]\n",
    "    return code, comment    "
   ]
  },
  {
   "cell_type": "markdown",
   "metadata": {},
   "source": [
    "## Initialization"
   ]
  },
  {
   "cell_type": "code",
   "execution_count": null,
   "metadata": {},
   "outputs": [],
   "source": [
    "json_files = []\n",
    "for root, dirs, files in os.walk('.'):\n",
    "    for file in files:\n",
    "        if file.endswith('.json'):\n",
    "            json_files.append(os.path.join(root, file))"
   ]
  },
  {
   "cell_type": "code",
   "execution_count": null,
   "metadata": {},
   "outputs": [],
   "source": [
    "json_file = 'DiverseVul_input.json'\n",
    "\n",
    "json_objects = file_parser(json_file)\n",
    "\n",
    "keys_to_remove = ['target', 'project', 'commit_id', 'hash', 'size', 'cwe']\n",
    "for json_object in json_objects:\n",
    "    for key in keys_to_remove:\n",
    "        if key in json_object:\n",
    "            del json_object[key]"
   ]
  },
  {
   "cell_type": "code",
   "execution_count": null,
   "metadata": {},
   "outputs": [],
   "source": [
    "header_json = {\n",
    "      \"role\": \"system\",\n",
    "      \"content\": [\n",
    "        {\n",
    "          \"type\": \"text\",\n",
    "          \"text\": \"You will get original code and comments from user message. You need to modify the original code based on comments. Make sure to generate the full code and a brief introduction of what are modified.\"\n",
    "        }\n",
    "      ]\n",
    "    }"
   ]
  },
  {
   "cell_type": "markdown",
   "metadata": {},
   "source": [
    "## Get Raw Responses (Clean Code Generation)"
   ]
  },
  {
   "cell_type": "code",
   "execution_count": null,
   "metadata": {},
   "outputs": [],
   "source": [
    "total = len(json_objects)\n",
    "count = 0\n",
    "for json_object in json_objects:\n",
    "    count += 1\n",
    "    print(f\"Processing {count} of {total}\")\n",
    "    prompt = get_prompt(json_object)\n",
    "    message = get_message(header_json, prompt)\n",
    "    response = get_response(client, message)\n",
    "    save_response(response)"
   ]
  },
  {
   "cell_type": "markdown",
   "metadata": {},
   "source": [
    "## Parse Raw Responses and generate the output file"
   ]
  },
  {
   "cell_type": "code",
   "execution_count": null,
   "metadata": {},
   "outputs": [],
   "source": [
    "response_object = response_objects[508]\n",
    "response = response_parser(response_object)"
   ]
  },
  {
   "cell_type": "code",
   "execution_count": null,
   "metadata": {},
   "outputs": [],
   "source": [
    "response_objects = file_parser('response.json')\n",
    "total = len(response_objects)\n",
    "count = 0\n",
    "output_file = 'clean_code.json'\n",
    "for response_object in response_objects:\n",
    "    tmp_result = {}\n",
    "    count += 1\n",
    "    print(f\"Processing {count} of {total}\")\n",
    "    code, comment = response_parser(response_object)\n",
    "    tmp_result['func'] = code\n",
    "    tmp_result['message'] = comment\n",
    "    with open(output_file, 'a+') as file:\n",
    "        json.dump(tmp_result, file, indent=4)\n",
    "        file.write('\\n')\n",
    "    "
   ]
  },
  {
   "cell_type": "markdown",
   "metadata": {},
   "source": [
    "## Process the clean code json, remove the header for the comments"
   ]
  },
  {
   "cell_type": "code",
   "execution_count": null,
   "metadata": {},
   "outputs": [],
   "source": [
    "clean_code_objects = file_parser('clean_code.json')\n",
    "total = len(clean_code_objects)\n",
    "count = 0\n",
    "processed_clean_code_objects = []\n",
    "for clean_code_object in clean_code_objects:\n",
    "    count += 1\n",
    "    print(f\"Processing {count} of {total}\")\n",
    "    \n",
    "    comment = clean_code_object['message'].strip()\n",
    "    try:\n",
    "        comment = comment.split('\\n', 1)[1]\n",
    "        comment = comment.strip()\n",
    "    except:\n",
    "        pass\n",
    "    code = clean_code_object['func']\n",
    "    processed_clean_code_objects.append({'func': code, 'message': comment})\n",
    "    with open('processed_clean_code.json', 'a+') as file:\n",
    "        json.dump({'func': code, 'message': comment}, file, indent=4)\n",
    "        file.write('\\n')\n",
    "    \n",
    "\n",
    "        "
   ]
  },
  {
   "cell_type": "code",
   "execution_count": null,
   "metadata": {},
   "outputs": [],
   "source": [
    "comment = clean_code_object['message'].strip()\n",
    "print(comment)"
   ]
  },
  {
   "cell_type": "code",
   "execution_count": null,
   "metadata": {},
   "outputs": [],
   "source": [
    "comment = clean_code_object['message'].strip()\n",
    "comment = comment.split('\\n', 1)[1]\n",
    "print(comment)\n",
    "comment = comment.strip()\n",
    "print(comment)"
   ]
  }
 ],
 "metadata": {
  "kernelspec": {
   "display_name": "ecs289",
   "language": "python",
   "name": "python3"
  },
  "language_info": {
   "codemirror_mode": {
    "name": "ipython",
    "version": 3
   },
   "file_extension": ".py",
   "mimetype": "text/x-python",
   "name": "python",
   "nbconvert_exporter": "python",
   "pygments_lexer": "ipython3",
   "version": "3.10.14"
  }
 },
 "nbformat": 4,
 "nbformat_minor": 2
}
